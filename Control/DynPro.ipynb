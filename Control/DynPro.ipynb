{
 "cells": [
  {
   "cell_type": "markdown",
   "metadata": {},
   "source": [
    "# Dynamic Programming\n"
   ]
  },
  {
   "cell_type": "code",
   "execution_count": 81,
   "metadata": {
    "collapsed": false
   },
   "outputs": [],
   "source": [
    "import numpy as np\n",
    "from scipy.stats import binom\n",
    "import matplotlib.pyplot as plt\n",
    "%matplotlib inline"
   ]
  },
  {
   "cell_type": "code",
   "execution_count": 82,
   "metadata": {
    "collapsed": false
   },
   "outputs": [],
   "source": [
    "Table = [15, 12, 10, 10, 10, 40, 40]\n",
    "p=0.5\n",
    "\n",
    "V=np.zeros((8, 52))\n",
    "orders=np.zeros((8, 52))\n",
    "\n",
    "\n",
    "## Dynamic Programming\n",
    "for t in reversed(range(0,7)):\n",
    "    for x in range(0,51):\n",
    "        for a in range(0,min(11,51-x)):\n",
    "            mean = 0\n",
    "            for k in range(0,Table[t]+1):\n",
    "                newx = max(0,x+a-k)\n",
    "                mean += ((2*min(k,x+a)-a)+V[t+1,newx])*binom.pmf(k,Table[t],p)\n",
    "            if(mean > V[t,x]):\n",
    "                V[t,x] = mean\n",
    "                orders[t,x] = a"
   ]
  },
  {
   "cell_type": "code",
   "execution_count": 83,
   "metadata": {
    "collapsed": false
   },
   "outputs": [
    {
     "name": "stdout",
     "output_type": "stream",
     "text": [
      "[  65.26893418   66.49577564   67.6504804    68.75691928   69.82964563\n",
      "   70.87803775   71.9090257    72.9280202    73.93913153   74.94531766\n",
      "   75.94858628   76.95022064   77.95099167   78.9513338    79.95147614\n",
      "   80.95153148   81.95155151   82.95155823   83.95156031   84.95156091\n",
      "   85.95156106   86.9515611    87.9515611    88.95156111   89.95156111\n",
      "   90.95156111   91.95156111   92.95156111   93.95156111   94.95156111\n",
      "   95.95156111   96.95156111   97.95156111   98.95156111   99.95156111\n",
      "  100.95156111  101.95156111  102.95156111  103.95156111  104.95156111\n",
      "  105.95156111  106.95156111  107.95156111  108.95156111  109.95156111\n",
      "  110.9515611   111.9515611   112.95156106  113.95156091  114.95156031\n",
      "  115.95155823    0.        ]\n"
     ]
    },
    {
     "data": {
      "text/plain": [
       "[<matplotlib.lines.Line2D at 0x110702668>]"
      ]
     },
     "execution_count": 83,
     "metadata": {},
     "output_type": "execute_result"
    },
    {
     "data": {
      "image/png": "[encoded data removed]",
      "text/plain": [
       "<matplotlib.figure.Figure at 0x11031e908>"
      ]
     },
     "metadata": {},
     "output_type": "display_data"
    }
   ],
   "source": [
    "print(V[0,:])\n",
    "\n",
    "# Preprocessing: Removing last column and row, \n",
    "# only of use for dynamic programming.\n",
    "\n",
    "optimised_value = np.delete(V ,V.shape[0]-1,0)\n",
    "optimised_value = np.delete(optimised_value ,-1, 1)\n",
    "plt.plot(optimised_value[0,:])"
   ]
  },
  {
   "cell_type": "markdown",
   "metadata": {},
   "source": [
    "The more initial stock the vendor has, the higher the expected profit is."
   ]
  },
  {
   "cell_type": "markdown",
   "metadata": {},
   "source": [
    "## Initial stock"
   ]
  },
  {
   "cell_type": "code",
   "execution_count": 84,
   "metadata": {
    "collapsed": false
   },
   "outputs": [],
   "source": [
    "def initial_stock(price):\n",
    "    temp = [e * price for e in list(range(len(optimised_value[0,:])))]\n",
    "    expected_profit = optimised_value[0,:] -  temp\n",
    "    print(expected_profit)\n",
    "    print('initial_stock :', np.argmax(expected_profit))\n",
    "    return np.argmax(expected_profit)"
   ]
  },
  {
   "cell_type": "code",
   "execution_count": 85,
   "metadata": {
    "collapsed": false
   },
   "outputs": [
    {
     "name": "stdout",
     "output_type": "stream",
     "text": [
      "[ 65.26893418  65.49577564  65.6504804   65.75691928  65.82964563\n",
      "  65.87803775  65.9090257   65.9280202   65.93913153  65.94531766\n",
      "  65.94858628  65.95022064  65.95099167  65.9513338   65.95147614\n",
      "  65.95153148  65.95155151  65.95155823  65.95156031  65.95156091\n",
      "  65.95156106  65.9515611   65.9515611   65.95156111  65.95156111\n",
      "  65.95156111  65.95156111  65.95156111  65.95156111  65.95156111\n",
      "  65.95156111  65.95156111  65.95156111  65.95156111  65.95156111\n",
      "  65.95156111  65.95156111  65.95156111  65.95156111  65.95156111\n",
      "  65.95156111  65.95156111  65.95156111  65.95156111  65.95156111\n",
      "  65.9515611   65.9515611   65.95156106  65.95156091  65.95156031\n",
      "  65.95155823]\n",
      "initial_stock : 36\n",
      "[ 65.26893418  65.74577564  66.1504804   66.50691928  66.82964563\n",
      "  67.12803775  67.4090257   67.6780202   67.93913153  68.19531766\n",
      "  68.44858628  68.70022064  68.95099167  69.2013338   69.45147614\n",
      "  69.70153148  69.95155151  70.20155823  70.45156031  70.70156091\n",
      "  70.95156106  71.2015611   71.4515611   71.70156111  71.95156111\n",
      "  72.20156111  72.45156111  72.70156111  72.95156111  73.20156111\n",
      "  73.45156111  73.70156111  73.95156111  74.20156111  74.45156111\n",
      "  74.70156111  74.95156111  75.20156111  75.45156111  75.70156111\n",
      "  75.95156111  76.20156111  76.45156111  76.70156111  76.95156111\n",
      "  77.2015611   77.4515611   77.70156106  77.95156091  78.20156031\n",
      "  78.45155823]\n",
      "initial_stock : 50\n",
      "[ 65.26893418  65.24577564  65.1504804   65.00691928  64.82964563\n",
      "  64.62803775  64.4090257   64.1780202   63.93913153  63.69531766\n",
      "  63.44858628  63.20022064  62.95099167  62.7013338   62.45147614\n",
      "  62.20153148  61.95155151  61.70155823  61.45156031  61.20156091\n",
      "  60.95156106  60.7015611   60.4515611   60.20156111  59.95156111\n",
      "  59.70156111  59.45156111  59.20156111  58.95156111  58.70156111\n",
      "  58.45156111  58.20156111  57.95156111  57.70156111  57.45156111\n",
      "  57.20156111  56.95156111  56.70156111  56.45156111  56.20156111\n",
      "  55.95156111  55.70156111  55.45156111  55.20156111  54.95156111\n",
      "  54.7015611   54.4515611   54.20156106  53.95156091  53.70156031\n",
      "  53.45155823]\n",
      "initial_stock : 0\n"
     ]
    },
    {
     "data": {
      "text/plain": [
       "0"
      ]
     },
     "execution_count": 85,
     "metadata": {},
     "output_type": "execute_result"
    }
   ],
   "source": [
    "initial_stock(1)\n",
    "initial_stock(0.75)\n",
    "initial_stock(1.25)"
   ]
  },
  {
   "cell_type": "markdown",
   "metadata": {},
   "source": [
    "Thus, note that when the initial stock is at 1\\$, there is no preferable initial stock amount because you can also purchase them later at the same price.\n",
    "\n",
    "For initial unitary stock at 0.75\\$, as it is cheaper than the normal 1\\$ price, the vendor has to buy the maximal possible amount.\n",
    "\n",
    "For initial unitary stock at 1.25\\$, as it is more expensive than the normal 1\\$ price, the vendor has to buy 0 stocks."
   ]
  },
  {
   "cell_type": "markdown",
   "metadata": {},
   "source": [
    "## Simulating the problem"
   ]
  },
  {
   "cell_type": "code",
   "execution_count": 86,
   "metadata": {
    "collapsed": false
   },
   "outputs": [],
   "source": [
    "def Monte_Carlo(iterations = 1000, u = 5, initial = 0):\n",
    "    Profit = []\n",
    "    for i in range(iterations):\n",
    "        profit = 0\n",
    "        s = initial\n",
    "        for e in Table:\n",
    "            u_temp = u\n",
    "            if (s+u>=50): \n",
    "                u_temp = 50 - s \n",
    "                s = 50\n",
    "            else: s += u_temp\n",
    "            estim = np.random.binomial(e,p)\n",
    "            if estim > s: estim = s\n",
    "            profit += 2*estim - u_temp\n",
    "            s -= estim\n",
    "        Profit.append(profit)\n",
    "    std = np.std(Profit)\n",
    "    mean = np.mean(Profit)\n",
    "    return mean, mean-(std/np.sqrt(iterations)), mean+(std/np.sqrt(iterations))\n",
    "\n"
   ]
  },
  {
   "cell_type": "code",
   "execution_count": 87,
   "metadata": {
    "collapsed": false
   },
   "outputs": [
    {
     "data": {
      "text/plain": [
       "[<matplotlib.lines.Line2D at 0x1108335f8>,\n",
       " <matplotlib.lines.Line2D at 0x1108337f0>,\n",
       " <matplotlib.lines.Line2D at 0x110833a58>]"
      ]
     },
     "execution_count": 87,
     "metadata": {},
     "output_type": "execute_result"
    },
    {
     "data": {
      "image/png": "[encoded data removed]",
      "text/plain": [
       "<matplotlib.figure.Figure at 0x110721c18>"
      ]
     },
     "metadata": {},
     "output_type": "display_data"
    }
   ],
   "source": [
    "Monte_Carlo_u = [Monte_Carlo(u=i) for i in range(40)]\n",
    "plt.plot(Monte_Carlo_u)"
   ]
  },
  {
   "cell_type": "markdown",
   "metadata": {},
   "source": [
    "We can see that there is a first stage of growing profit with growing daily purchases, then a downturn because the vendor buys more than he sells. Then, the profit is constant because he can not have more than 50 units in stock."
   ]
  },
  {
   "cell_type": "code",
   "execution_count": 88,
   "metadata": {
    "collapsed": false
   },
   "outputs": [
    {
     "data": {
      "text/plain": [
       "[<matplotlib.lines.Line2D at 0x110c0d198>,\n",
       " <matplotlib.lines.Line2D at 0x110c0d390>,\n",
       " <matplotlib.lines.Line2D at 0x110c0d5f8>]"
      ]
     },
     "execution_count": 88,
     "metadata": {},
     "output_type": "execute_result"
    },
    {
     "data": {
      "image/png": "[encoded data removed]",
      "text/plain": [
       "<matplotlib.figure.Figure at 0x110898b00>"
      ]
     },
     "metadata": {},
     "output_type": "display_data"
    }
   ],
   "source": [
    "Monte_Carlo_u = [Monte_Carlo(u=i, initial = 20) for i in range(40)]\n",
    "plt.plot(Monte_Carlo_u)"
   ]
  },
  {
   "cell_type": "code",
   "execution_count": 89,
   "metadata": {
    "collapsed": false
   },
   "outputs": [
    {
     "name": "stdout",
     "output_type": "stream",
     "text": [
      "mean : 83.84 ; confidence interval:  83.6145440176 , 84.0654559824\n",
      "84.9515609053\n"
     ]
    }
   ],
   "source": [
    "Monte_Carlo_arr = np.array(Monte_Carlo_u)\n",
    "argmax = np.argmax(Monte_Carlo_arr[:,0])\n",
    "max_temp = Monte_Carlo_arr[argmax]\n",
    "print('mean :', Monte_Carlo_arr[argmax][0], '; confidence interval: ', Monte_Carlo_arr[argmax][1], ',', Monte_Carlo_arr[argmax][2])\n",
    "print(optimised_value[0,19])"
   ]
  },
  {
   "cell_type": "markdown",
   "metadata": {},
   "source": [
    "Thus, $V_0(s_0)$ is not in the confidence interval of the expected value computed with Monte-Carlo simulation."
   ]
  },
  {
   "cell_type": "markdown",
   "metadata": {},
   "source": [
    "# Going further"
   ]
  },
  {
   "cell_type": "code",
   "execution_count": 90,
   "metadata": {
    "collapsed": true
   },
   "outputs": [],
   "source": [
    "V=np.zeros((8, 52))\n",
    "orders=np.zeros((8, 52))\n",
    "V[7,:] = list(range(52))\n",
    "\n",
    "for t in reversed(range(0,7)):\n",
    "    for x in range(0,51):\n",
    "        for a in range(0,min(11,51-x)):\n",
    "            mean = 0\n",
    "            for k in range(0,Table[t]+1):\n",
    "                newx = max(0,x+a-k)\n",
    "                mean += ((2*min(k,x+a)-a)+V[t+1,newx])*binom.pmf(k,Table[t],p)\n",
    "            if(mean > V[t,x]):\n",
    "                V[t,x] = mean\n",
    "                orders[t,x] = a"
   ]
  },
  {
   "cell_type": "code",
   "execution_count": 91,
   "metadata": {
    "collapsed": false
   },
   "outputs": [
    {
     "name": "stdout",
     "output_type": "stream",
     "text": [
      "[  66.81302561   68.20125096   69.51209317   70.76073906   71.95742486\n",
      "   73.11005867   74.22582734   75.31153182   76.37341924   77.41698585\n",
      "   78.44686984   79.46683391   80.47981731   81.4880334    82.49309042\n",
      "   83.4961166    84.49787648   85.49887067   86.49941601   87.49970631\n",
      "   88.4998562    89.49993122   90.49996758   91.49998463   92.49999236\n",
      "   93.49999574   94.49999716   95.49999773   96.49999795   97.49999803\n",
      "   98.49999806   99.49999807  100.49999807  101.49999807  102.49999808\n",
      "  103.49999808  104.49999808  105.49999808  106.49999808  107.49999808\n",
      "  108.49999808  109.49999808  110.49999808  111.49999808  112.49999808\n",
      "  113.49999808  114.49999808  115.49999808  116.49999808  117.49999808\n",
      "  118.49999808    0.        ]\n"
     ]
    },
    {
     "data": {
      "text/plain": [
       "[<matplotlib.lines.Line2D at 0x110d30b38>]"
      ]
     },
     "execution_count": 91,
     "metadata": {},
     "output_type": "execute_result"
    },
    {
     "data": {
      "image/png": "[encoded data removed]",
      "text/plain": [
       "<matplotlib.figure.Figure at 0x110c2a048>"
      ]
     },
     "metadata": {},
     "output_type": "display_data"
    }
   ],
   "source": [
    "print(V[0,:])\n",
    "\n",
    "# Preprocessing: Removing last column and row, \n",
    "# only of use for dynamic programming.\n",
    "\n",
    "optimised_value = np.delete(V ,V.shape[0]-1,0)\n",
    "optimised_value = np.delete(optimised_value ,-1, 1)\n",
    "plt.plot(optimised_value[0,:])"
   ]
  },
  {
   "cell_type": "markdown",
   "metadata": {},
   "source": [
    "The optimal value is greater than the ine in question 3, this is due to the possibility of selling the remaining stock at the end of the week."
   ]
  },
  {
   "cell_type": "code",
   "execution_count": null,
   "metadata": {
    "collapsed": true
   },
   "outputs": [],
   "source": []
  }
 ],
 "metadata": {
  "kernelspec": {
   "display_name": "Python 3",
   "language": "python",
   "name": "python3"
  },
  "language_info": {
   "codemirror_mode": {
    "name": "ipython",
    "version": 3
   },
   "file_extension": ".py",
   "mimetype": "text/x-python",
   "name": "python",
   "nbconvert_exporter": "python",
   "pygments_lexer": "ipython3",
   "version": "3.5.0"
  }
 },
 "nbformat": 4,
 "nbformat_minor": 0
}
